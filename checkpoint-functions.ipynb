{
  "nbformat": 4,
  "nbformat_minor": 0,
  "metadata": {
    "colab": {
      "name": "Untitled0.ipynb",
      "provenance": []
    },
    "kernelspec": {
      "name": "python3",
      "display_name": "Python 3"
    },
    "language_info": {
      "name": "python"
    }
  },
  "cells": [
    {
      "cell_type": "code",
      "source": [
        "#answer of question 1\n",
        "def max_of_two(x,y):\n",
        "  if x > y :\n",
        "    return x\n",
        "  else:\n",
        "    return y\n",
        "def max_of_three( x, y, z ):\n",
        "    return max_of_two( x, max_of_two( y, z ) )\n",
        "print(max_of_three(20, 35, 19))"
      ],
      "metadata": {
        "colab": {
          "base_uri": "https://localhost:8080/"
        },
        "id": "EUrQwg-WkGtR",
        "outputId": "46e8dff3-07bd-4795-e128-11220b624868"
      },
      "execution_count": null,
      "outputs": [
        {
          "output_type": "stream",
          "name": "stdout",
          "text": [
            "35\n"
          ]
        }
      ]
    },
    {
      "cell_type": "code",
      "source": [
        "#answer of question 2\n",
        "def input11(x,y) :\n",
        "  num1 = x\n",
        "  num2 = y\n",
        "  sum1 = num1 + num2\n",
        "  sum2 = num1 - num2\n",
        "\n",
        "  return sum1 , sum2\n",
        "\n",
        "\n",
        "print(input11(30,10))"
      ],
      "metadata": {
        "colab": {
          "base_uri": "https://localhost:8080/"
        },
        "id": "lrwpGo9XKv6G",
        "outputId": "1e48f722-914a-46e2-ee09-bb151c744230"
      },
      "execution_count": null,
      "outputs": [
        {
          "output_type": "stream",
          "name": "stdout",
          "text": [
            "(40, 20)\n"
          ]
        }
      ]
    },
    {
      "cell_type": "code",
      "source": [
        "#answer of question 3\n",
        "x = [1,2,3,4,5,6,7,8,9]\n",
        "\n",
        "def sum_of_list1(j):\n",
        "   total0 = 0 \n",
        "   for x in j:\n",
        "    total0 = total0 + x\n",
        "   return total0\n",
        "def multi_of_list(k):\n",
        "     total9 = 1 \n",
        "     for x in k:\n",
        "      total9 = total9 * x\n",
        "     return total9\n",
        "\n",
        "sum_of_list1(x)\n",
        "multi_of_list(x)\n",
        "  \n",
        "\n",
        "\n",
        "\n"
      ],
      "metadata": {
        "colab": {
          "base_uri": "https://localhost:8080/"
        },
        "id": "Fri8LnkVR-Xe",
        "outputId": "58da66f0-c89d-4807-eb0e-bc3c0242f8da"
      },
      "execution_count": null,
      "outputs": [
        {
          "output_type": "execute_result",
          "data": {
            "text/plain": [
              "362880"
            ]
          },
          "metadata": {},
          "execution_count": 32
        }
      ]
    },
    {
      "cell_type": "code",
      "source": [
        "#answer of question number 4 \n",
        "\n",
        "x = input().split(\"-\")\n",
        "x.sort()\n",
        "\n",
        "k = \"-\".join(x)\n",
        "\n",
        "print(k)\n"
      ],
      "metadata": {
        "colab": {
          "base_uri": "https://localhost:8080/"
        },
        "id": "fScrYeTLnsc1",
        "outputId": "79e53093-6977-4c63-faaa-28cfea75245b"
      },
      "execution_count": null,
      "outputs": [
        {
          "output_type": "stream",
          "name": "stdout",
          "text": [
            "green-red-yellow-black-white\n",
            "black-green-red-white-yellow\n"
          ]
        }
      ]
    },
    {
      "cell_type": "code",
      "source": [
        "import math\n",
        "\n",
        "d = input()\n",
        "\n",
        "d = d.split(',')\n",
        "C = 50\n",
        "H = 30\n",
        "\n",
        "for i in d:\n",
        "   Q = round(math.sqrt(2 * 50 * int(i) / 30))\n",
        "   print(Q,end=\" \")\n",
        "\n"
      ],
      "metadata": {
        "colab": {
          "base_uri": "https://localhost:8080/"
        },
        "id": "2m8Tc1sZXcyG",
        "outputId": "51a98743-8196-4e43-f548-f3eb14fe5970"
      },
      "execution_count": null,
      "outputs": [
        {
          "output_type": "stream",
          "name": "stdout",
          "text": [
            "100,150,180\n",
            "18 22 24 "
          ]
        }
      ]
    },
    {
      "cell_type": "code",
      "source": [
        ""
      ],
      "metadata": {
        "id": "0InMlGv0I0ix"
      },
      "execution_count": null,
      "outputs": []
    }
  ]
}